{
 "cells": [
  {
   "cell_type": "markdown",
   "metadata": {},
   "source": [
    "# Рекомендация тарифов"
   ]
  },
  {
   "cell_type": "markdown",
   "metadata": {},
   "source": [
    "В вашем распоряжении данные о поведении клиентов, которые уже перешли на эти тарифы (из проекта курса «Статистический анализ данных»). Нужно построить модель для задачи классификации, которая выберет подходящий тариф. Предобработка данных не понадобится — вы её уже сделали.\n",
    "\n",
    "Постройте модель с максимально большим значением *accuracy*. Чтобы сдать проект успешно, нужно довести долю правильных ответов по крайней мере до 0.75. Проверьте *accuracy* на тестовой выборке самостоятельно."
   ]
  },
  {
   "cell_type": "markdown",
   "metadata": {},
   "source": [
    "## Откройте и изучите файл"
   ]
  },
  {
   "cell_type": "code",
   "execution_count": 1,
   "metadata": {},
   "outputs": [
    {
     "data": {
      "text/html": [
       "<div>\n",
       "<style scoped>\n",
       "    .dataframe tbody tr th:only-of-type {\n",
       "        vertical-align: middle;\n",
       "    }\n",
       "\n",
       "    .dataframe tbody tr th {\n",
       "        vertical-align: top;\n",
       "    }\n",
       "\n",
       "    .dataframe thead th {\n",
       "        text-align: right;\n",
       "    }\n",
       "</style>\n",
       "<table border=\"1\" class=\"dataframe\">\n",
       "  <thead>\n",
       "    <tr style=\"text-align: right;\">\n",
       "      <th></th>\n",
       "      <th>calls</th>\n",
       "      <th>minutes</th>\n",
       "      <th>messages</th>\n",
       "      <th>mb_used</th>\n",
       "      <th>is_ultra</th>\n",
       "    </tr>\n",
       "  </thead>\n",
       "  <tbody>\n",
       "    <tr>\n",
       "      <td>0</td>\n",
       "      <td>40.0</td>\n",
       "      <td>311.90</td>\n",
       "      <td>83.0</td>\n",
       "      <td>19915.42</td>\n",
       "      <td>0</td>\n",
       "    </tr>\n",
       "    <tr>\n",
       "      <td>1</td>\n",
       "      <td>85.0</td>\n",
       "      <td>516.75</td>\n",
       "      <td>56.0</td>\n",
       "      <td>22696.96</td>\n",
       "      <td>0</td>\n",
       "    </tr>\n",
       "    <tr>\n",
       "      <td>2</td>\n",
       "      <td>77.0</td>\n",
       "      <td>467.66</td>\n",
       "      <td>86.0</td>\n",
       "      <td>21060.45</td>\n",
       "      <td>0</td>\n",
       "    </tr>\n",
       "    <tr>\n",
       "      <td>3</td>\n",
       "      <td>106.0</td>\n",
       "      <td>745.53</td>\n",
       "      <td>81.0</td>\n",
       "      <td>8437.39</td>\n",
       "      <td>1</td>\n",
       "    </tr>\n",
       "    <tr>\n",
       "      <td>4</td>\n",
       "      <td>66.0</td>\n",
       "      <td>418.74</td>\n",
       "      <td>1.0</td>\n",
       "      <td>14502.75</td>\n",
       "      <td>0</td>\n",
       "    </tr>\n",
       "  </tbody>\n",
       "</table>\n",
       "</div>"
      ],
      "text/plain": [
       "   calls  minutes  messages   mb_used  is_ultra\n",
       "0   40.0   311.90      83.0  19915.42         0\n",
       "1   85.0   516.75      56.0  22696.96         0\n",
       "2   77.0   467.66      86.0  21060.45         0\n",
       "3  106.0   745.53      81.0   8437.39         1\n",
       "4   66.0   418.74       1.0  14502.75         0"
      ]
     },
     "execution_count": 1,
     "metadata": {},
     "output_type": "execute_result"
    }
   ],
   "source": [
    "import pandas as pd\n",
    "import numpy as np\n",
    "from sklearn.model_selection import train_test_split\n",
    "from sklearn.metrics import mean_squared_error\n",
    "from sklearn.metrics import accuracy_score\n",
    "\n",
    "# Для задачи классификации\n",
    "from sklearn.tree import DecisionTreeClassifier\n",
    "from sklearn.ensemble import RandomForestClassifier\n",
    "from sklearn.linear_model import LogisticRegression\n",
    "# Кросс-валидация\n",
    "from sklearn.model_selection import GridSearchCV\n",
    "\n",
    "\n",
    "df = pd.read_csv('/datasets/users_behavior.csv')\n",
    "df.head()\n",
    "\n"
   ]
  },
  {
   "cell_type": "code",
   "execution_count": 2,
   "metadata": {},
   "outputs": [
    {
     "data": {
      "text/html": [
       "<div>\n",
       "<style scoped>\n",
       "    .dataframe tbody tr th:only-of-type {\n",
       "        vertical-align: middle;\n",
       "    }\n",
       "\n",
       "    .dataframe tbody tr th {\n",
       "        vertical-align: top;\n",
       "    }\n",
       "\n",
       "    .dataframe thead th {\n",
       "        text-align: right;\n",
       "    }\n",
       "</style>\n",
       "<table border=\"1\" class=\"dataframe\">\n",
       "  <thead>\n",
       "    <tr style=\"text-align: right;\">\n",
       "      <th></th>\n",
       "      <th>calls</th>\n",
       "      <th>minutes</th>\n",
       "      <th>messages</th>\n",
       "      <th>mb_used</th>\n",
       "      <th>is_ultra</th>\n",
       "    </tr>\n",
       "  </thead>\n",
       "  <tbody>\n",
       "    <tr>\n",
       "      <td>0</td>\n",
       "      <td>40</td>\n",
       "      <td>312</td>\n",
       "      <td>83</td>\n",
       "      <td>19916</td>\n",
       "      <td>0</td>\n",
       "    </tr>\n",
       "    <tr>\n",
       "      <td>1</td>\n",
       "      <td>85</td>\n",
       "      <td>517</td>\n",
       "      <td>56</td>\n",
       "      <td>22697</td>\n",
       "      <td>0</td>\n",
       "    </tr>\n",
       "    <tr>\n",
       "      <td>2</td>\n",
       "      <td>77</td>\n",
       "      <td>468</td>\n",
       "      <td>86</td>\n",
       "      <td>21061</td>\n",
       "      <td>0</td>\n",
       "    </tr>\n",
       "    <tr>\n",
       "      <td>3</td>\n",
       "      <td>106</td>\n",
       "      <td>746</td>\n",
       "      <td>81</td>\n",
       "      <td>8438</td>\n",
       "      <td>1</td>\n",
       "    </tr>\n",
       "    <tr>\n",
       "      <td>4</td>\n",
       "      <td>66</td>\n",
       "      <td>419</td>\n",
       "      <td>1</td>\n",
       "      <td>14503</td>\n",
       "      <td>0</td>\n",
       "    </tr>\n",
       "    <tr>\n",
       "      <td>5</td>\n",
       "      <td>58</td>\n",
       "      <td>345</td>\n",
       "      <td>21</td>\n",
       "      <td>15824</td>\n",
       "      <td>0</td>\n",
       "    </tr>\n",
       "    <tr>\n",
       "      <td>6</td>\n",
       "      <td>57</td>\n",
       "      <td>432</td>\n",
       "      <td>20</td>\n",
       "      <td>3739</td>\n",
       "      <td>1</td>\n",
       "    </tr>\n",
       "    <tr>\n",
       "      <td>7</td>\n",
       "      <td>15</td>\n",
       "      <td>133</td>\n",
       "      <td>6</td>\n",
       "      <td>21912</td>\n",
       "      <td>0</td>\n",
       "    </tr>\n",
       "    <tr>\n",
       "      <td>8</td>\n",
       "      <td>7</td>\n",
       "      <td>44</td>\n",
       "      <td>3</td>\n",
       "      <td>2539</td>\n",
       "      <td>1</td>\n",
       "    </tr>\n",
       "    <tr>\n",
       "      <td>9</td>\n",
       "      <td>90</td>\n",
       "      <td>666</td>\n",
       "      <td>38</td>\n",
       "      <td>17359</td>\n",
       "      <td>0</td>\n",
       "    </tr>\n",
       "  </tbody>\n",
       "</table>\n",
       "</div>"
      ],
      "text/plain": [
       "   calls  minutes  messages  mb_used  is_ultra\n",
       "0     40      312        83    19916         0\n",
       "1     85      517        56    22697         0\n",
       "2     77      468        86    21061         0\n",
       "3    106      746        81     8438         1\n",
       "4     66      419         1    14503         0\n",
       "5     58      345        21    15824         0\n",
       "6     57      432        20     3739         1\n",
       "7     15      133         6    21912         0\n",
       "8      7       44         3     2539         1\n",
       "9     90      666        38    17359         0"
      ]
     },
     "execution_count": 2,
     "metadata": {},
     "output_type": "execute_result"
    }
   ],
   "source": [
    "df['calls'] = df['calls'].astype(int)\n",
    "df['messages'] = df['messages'].astype(int)\n",
    "df['minutes'] = np.ceil(df['minutes']).astype(int)\n",
    "df['mb_used'] = np.ceil(df['mb_used']).astype(int)\n",
    "df.head(10)"
   ]
  },
  {
   "cell_type": "code",
   "execution_count": 3,
   "metadata": {},
   "outputs": [
    {
     "name": "stdout",
     "output_type": "stream",
     "text": [
      "<class 'pandas.core.frame.DataFrame'>\n",
      "RangeIndex: 3214 entries, 0 to 3213\n",
      "Data columns (total 5 columns):\n",
      "calls       3214 non-null int64\n",
      "minutes     3214 non-null int64\n",
      "messages    3214 non-null int64\n",
      "mb_used     3214 non-null int64\n",
      "is_ultra    3214 non-null int64\n",
      "dtypes: int64(5)\n",
      "memory usage: 125.7 KB\n"
     ]
    }
   ],
   "source": [
    "df.info()"
   ]
  },
  {
   "cell_type": "markdown",
   "metadata": {},
   "source": [
    "## Разбейте данные на выборки"
   ]
  },
  {
   "cell_type": "markdown",
   "metadata": {},
   "source": [
    "Тут определим основные компоненты для нашей модели классификации"
   ]
  },
  {
   "cell_type": "code",
   "execution_count": 4,
   "metadata": {},
   "outputs": [],
   "source": [
    "# Признаки\n",
    "features = df.drop(columns=['is_ultra'])\n",
    "\n",
    "# Целевая переменная (класс пользователей - Ультра или Смарт) («Ультра» — 1, «Смарт» — 0).\n",
    "target = df['is_ultra']\n",
    "\n",
    "\n",
    "# Выделим 20% данных для валидационной и тестовой выборки\n",
    "features_train, features_valid, target_train, target_valid = train_test_split( \\\n",
    "    features, target, test_size=.40, random_state=12345) \n",
    "\n",
    "features_valid, features_test, target_valid, target_test = train_test_split( \\\n",
    "    features_valid, target_valid, test_size=.50, random_state=12345) \n"
   ]
  },
  {
   "cell_type": "code",
   "execution_count": 5,
   "metadata": {},
   "outputs": [
    {
     "data": {
      "text/html": [
       "<div>\n",
       "<style scoped>\n",
       "    .dataframe tbody tr th:only-of-type {\n",
       "        vertical-align: middle;\n",
       "    }\n",
       "\n",
       "    .dataframe tbody tr th {\n",
       "        vertical-align: top;\n",
       "    }\n",
       "\n",
       "    .dataframe thead th {\n",
       "        text-align: right;\n",
       "    }\n",
       "</style>\n",
       "<table border=\"1\" class=\"dataframe\">\n",
       "  <thead>\n",
       "    <tr style=\"text-align: right;\">\n",
       "      <th></th>\n",
       "      <th>calls</th>\n",
       "      <th>minutes</th>\n",
       "      <th>messages</th>\n",
       "      <th>mb_used</th>\n",
       "    </tr>\n",
       "  </thead>\n",
       "  <tbody>\n",
       "    <tr>\n",
       "      <td>3027</td>\n",
       "      <td>60</td>\n",
       "      <td>432</td>\n",
       "      <td>26</td>\n",
       "      <td>14752</td>\n",
       "    </tr>\n",
       "    <tr>\n",
       "      <td>434</td>\n",
       "      <td>33</td>\n",
       "      <td>266</td>\n",
       "      <td>59</td>\n",
       "      <td>17399</td>\n",
       "    </tr>\n",
       "    <tr>\n",
       "      <td>1226</td>\n",
       "      <td>52</td>\n",
       "      <td>342</td>\n",
       "      <td>68</td>\n",
       "      <td>15463</td>\n",
       "    </tr>\n",
       "    <tr>\n",
       "      <td>1054</td>\n",
       "      <td>42</td>\n",
       "      <td>227</td>\n",
       "      <td>21</td>\n",
       "      <td>13244</td>\n",
       "    </tr>\n",
       "    <tr>\n",
       "      <td>1842</td>\n",
       "      <td>30</td>\n",
       "      <td>199</td>\n",
       "      <td>0</td>\n",
       "      <td>8190</td>\n",
       "    </tr>\n",
       "    <tr>\n",
       "      <td>...</td>\n",
       "      <td>...</td>\n",
       "      <td>...</td>\n",
       "      <td>...</td>\n",
       "      <td>...</td>\n",
       "    </tr>\n",
       "    <tr>\n",
       "      <td>2817</td>\n",
       "      <td>12</td>\n",
       "      <td>87</td>\n",
       "      <td>22</td>\n",
       "      <td>36629</td>\n",
       "    </tr>\n",
       "    <tr>\n",
       "      <td>546</td>\n",
       "      <td>65</td>\n",
       "      <td>459</td>\n",
       "      <td>0</td>\n",
       "      <td>15215</td>\n",
       "    </tr>\n",
       "    <tr>\n",
       "      <td>382</td>\n",
       "      <td>144</td>\n",
       "      <td>907</td>\n",
       "      <td>0</td>\n",
       "      <td>25003</td>\n",
       "    </tr>\n",
       "    <tr>\n",
       "      <td>2177</td>\n",
       "      <td>38</td>\n",
       "      <td>302</td>\n",
       "      <td>37</td>\n",
       "      <td>28915</td>\n",
       "    </tr>\n",
       "    <tr>\n",
       "      <td>482</td>\n",
       "      <td>160</td>\n",
       "      <td>1085</td>\n",
       "      <td>95</td>\n",
       "      <td>36844</td>\n",
       "    </tr>\n",
       "  </tbody>\n",
       "</table>\n",
       "<p>1928 rows × 4 columns</p>\n",
       "</div>"
      ],
      "text/plain": [
       "      calls  minutes  messages  mb_used\n",
       "3027     60      432        26    14752\n",
       "434      33      266        59    17399\n",
       "1226     52      342        68    15463\n",
       "1054     42      227        21    13244\n",
       "1842     30      199         0     8190\n",
       "...     ...      ...       ...      ...\n",
       "2817     12       87        22    36629\n",
       "546      65      459         0    15215\n",
       "382     144      907         0    25003\n",
       "2177     38      302        37    28915\n",
       "482     160     1085        95    36844\n",
       "\n",
       "[1928 rows x 4 columns]"
      ]
     },
     "metadata": {},
     "output_type": "display_data"
    },
    {
     "data": {
      "text/html": [
       "<div>\n",
       "<style scoped>\n",
       "    .dataframe tbody tr th:only-of-type {\n",
       "        vertical-align: middle;\n",
       "    }\n",
       "\n",
       "    .dataframe tbody tr th {\n",
       "        vertical-align: top;\n",
       "    }\n",
       "\n",
       "    .dataframe thead th {\n",
       "        text-align: right;\n",
       "    }\n",
       "</style>\n",
       "<table border=\"1\" class=\"dataframe\">\n",
       "  <thead>\n",
       "    <tr style=\"text-align: right;\">\n",
       "      <th></th>\n",
       "      <th>calls</th>\n",
       "      <th>minutes</th>\n",
       "      <th>messages</th>\n",
       "      <th>mb_used</th>\n",
       "    </tr>\n",
       "  </thead>\n",
       "  <tbody>\n",
       "    <tr>\n",
       "      <td>1386</td>\n",
       "      <td>92</td>\n",
       "      <td>537</td>\n",
       "      <td>18</td>\n",
       "      <td>20194</td>\n",
       "    </tr>\n",
       "    <tr>\n",
       "      <td>3124</td>\n",
       "      <td>40</td>\n",
       "      <td>287</td>\n",
       "      <td>17</td>\n",
       "      <td>17919</td>\n",
       "    </tr>\n",
       "    <tr>\n",
       "      <td>1956</td>\n",
       "      <td>81</td>\n",
       "      <td>532</td>\n",
       "      <td>56</td>\n",
       "      <td>17756</td>\n",
       "    </tr>\n",
       "    <tr>\n",
       "      <td>2286</td>\n",
       "      <td>67</td>\n",
       "      <td>461</td>\n",
       "      <td>27</td>\n",
       "      <td>16627</td>\n",
       "    </tr>\n",
       "    <tr>\n",
       "      <td>3077</td>\n",
       "      <td>22</td>\n",
       "      <td>121</td>\n",
       "      <td>16</td>\n",
       "      <td>9040</td>\n",
       "    </tr>\n",
       "    <tr>\n",
       "      <td>...</td>\n",
       "      <td>...</td>\n",
       "      <td>...</td>\n",
       "      <td>...</td>\n",
       "      <td>...</td>\n",
       "    </tr>\n",
       "    <tr>\n",
       "      <td>1999</td>\n",
       "      <td>56</td>\n",
       "      <td>399</td>\n",
       "      <td>4</td>\n",
       "      <td>23683</td>\n",
       "    </tr>\n",
       "    <tr>\n",
       "      <td>1023</td>\n",
       "      <td>76</td>\n",
       "      <td>602</td>\n",
       "      <td>0</td>\n",
       "      <td>17105</td>\n",
       "    </tr>\n",
       "    <tr>\n",
       "      <td>748</td>\n",
       "      <td>81</td>\n",
       "      <td>526</td>\n",
       "      <td>15</td>\n",
       "      <td>18879</td>\n",
       "    </tr>\n",
       "    <tr>\n",
       "      <td>1667</td>\n",
       "      <td>10</td>\n",
       "      <td>64</td>\n",
       "      <td>0</td>\n",
       "      <td>2568</td>\n",
       "    </tr>\n",
       "    <tr>\n",
       "      <td>3197</td>\n",
       "      <td>89</td>\n",
       "      <td>661</td>\n",
       "      <td>68</td>\n",
       "      <td>11712</td>\n",
       "    </tr>\n",
       "  </tbody>\n",
       "</table>\n",
       "<p>643 rows × 4 columns</p>\n",
       "</div>"
      ],
      "text/plain": [
       "      calls  minutes  messages  mb_used\n",
       "1386     92      537        18    20194\n",
       "3124     40      287        17    17919\n",
       "1956     81      532        56    17756\n",
       "2286     67      461        27    16627\n",
       "3077     22      121        16     9040\n",
       "...     ...      ...       ...      ...\n",
       "1999     56      399         4    23683\n",
       "1023     76      602         0    17105\n",
       "748      81      526        15    18879\n",
       "1667     10       64         0     2568\n",
       "3197     89      661        68    11712\n",
       "\n",
       "[643 rows x 4 columns]"
      ]
     },
     "metadata": {},
     "output_type": "display_data"
    },
    {
     "data": {
      "text/html": [
       "<div>\n",
       "<style scoped>\n",
       "    .dataframe tbody tr th:only-of-type {\n",
       "        vertical-align: middle;\n",
       "    }\n",
       "\n",
       "    .dataframe tbody tr th {\n",
       "        vertical-align: top;\n",
       "    }\n",
       "\n",
       "    .dataframe thead th {\n",
       "        text-align: right;\n",
       "    }\n",
       "</style>\n",
       "<table border=\"1\" class=\"dataframe\">\n",
       "  <thead>\n",
       "    <tr style=\"text-align: right;\">\n",
       "      <th></th>\n",
       "      <th>calls</th>\n",
       "      <th>minutes</th>\n",
       "      <th>messages</th>\n",
       "      <th>mb_used</th>\n",
       "    </tr>\n",
       "  </thead>\n",
       "  <tbody>\n",
       "    <tr>\n",
       "      <td>160</td>\n",
       "      <td>61</td>\n",
       "      <td>496</td>\n",
       "      <td>8</td>\n",
       "      <td>10892</td>\n",
       "    </tr>\n",
       "    <tr>\n",
       "      <td>2498</td>\n",
       "      <td>80</td>\n",
       "      <td>556</td>\n",
       "      <td>28</td>\n",
       "      <td>28084</td>\n",
       "    </tr>\n",
       "    <tr>\n",
       "      <td>1748</td>\n",
       "      <td>87</td>\n",
       "      <td>698</td>\n",
       "      <td>0</td>\n",
       "      <td>8336</td>\n",
       "    </tr>\n",
       "    <tr>\n",
       "      <td>1816</td>\n",
       "      <td>41</td>\n",
       "      <td>276</td>\n",
       "      <td>9</td>\n",
       "      <td>10033</td>\n",
       "    </tr>\n",
       "    <tr>\n",
       "      <td>1077</td>\n",
       "      <td>60</td>\n",
       "      <td>429</td>\n",
       "      <td>20</td>\n",
       "      <td>29390</td>\n",
       "    </tr>\n",
       "    <tr>\n",
       "      <td>...</td>\n",
       "      <td>...</td>\n",
       "      <td>...</td>\n",
       "      <td>...</td>\n",
       "      <td>...</td>\n",
       "    </tr>\n",
       "    <tr>\n",
       "      <td>2401</td>\n",
       "      <td>55</td>\n",
       "      <td>447</td>\n",
       "      <td>79</td>\n",
       "      <td>26527</td>\n",
       "    </tr>\n",
       "    <tr>\n",
       "      <td>2928</td>\n",
       "      <td>102</td>\n",
       "      <td>743</td>\n",
       "      <td>58</td>\n",
       "      <td>16090</td>\n",
       "    </tr>\n",
       "    <tr>\n",
       "      <td>1985</td>\n",
       "      <td>52</td>\n",
       "      <td>350</td>\n",
       "      <td>42</td>\n",
       "      <td>12151</td>\n",
       "    </tr>\n",
       "    <tr>\n",
       "      <td>357</td>\n",
       "      <td>39</td>\n",
       "      <td>222</td>\n",
       "      <td>59</td>\n",
       "      <td>17866</td>\n",
       "    </tr>\n",
       "    <tr>\n",
       "      <td>2313</td>\n",
       "      <td>40</td>\n",
       "      <td>302</td>\n",
       "      <td>102</td>\n",
       "      <td>6058</td>\n",
       "    </tr>\n",
       "  </tbody>\n",
       "</table>\n",
       "<p>643 rows × 4 columns</p>\n",
       "</div>"
      ],
      "text/plain": [
       "      calls  minutes  messages  mb_used\n",
       "160      61      496         8    10892\n",
       "2498     80      556        28    28084\n",
       "1748     87      698         0     8336\n",
       "1816     41      276         9    10033\n",
       "1077     60      429        20    29390\n",
       "...     ...      ...       ...      ...\n",
       "2401     55      447        79    26527\n",
       "2928    102      743        58    16090\n",
       "1985     52      350        42    12151\n",
       "357      39      222        59    17866\n",
       "2313     40      302       102     6058\n",
       "\n",
       "[643 rows x 4 columns]"
      ]
     },
     "metadata": {},
     "output_type": "display_data"
    }
   ],
   "source": [
    "datasets = [features_train, features_valid, features_test]\n",
    "for d in datasets:\n",
    "    display(d)"
   ]
  },
  {
   "cell_type": "markdown",
   "metadata": {},
   "source": [
    "# Вывод (шаг 2)\n",
    "Разделили исходную выборку на три части с соотношением (3:1:1). Для этого использовался метод train_test_split два раза,где сначала разделили исходные данные на train и valid датасеты,  затем valid пополам."
   ]
  },
  {
   "cell_type": "markdown",
   "metadata": {},
   "source": [
    "## Исследуйте модели"
   ]
  },
  {
   "cell_type": "markdown",
   "metadata": {},
   "source": [
    "### Дерево решений (DecisionTreeClassifier)"
   ]
  },
  {
   "cell_type": "code",
   "execution_count": 6,
   "metadata": {},
   "outputs": [
    {
     "name": "stdout",
     "output_type": "stream",
     "text": [
      "Лучший Accuracy для модели дерева:  0.7853810264385692\n",
      "Подходящий гиперапараметр глубины:  3\n"
     ]
    }
   ],
   "source": [
    "\n",
    "# Проведём подбор гиперпараметров для модели\n",
    "\n",
    "# Тут храним результаты \n",
    "best_model = None\n",
    "best_result = 0\n",
    "\n",
    "# Варьируем в цикле гиперпараметр глубины дерева и считаем метрику accuracy \n",
    "for depth in range(1, 10):\n",
    "    tree_clf = DecisionTreeClassifier(random_state=12345, max_depth = depth)\n",
    "    tree_clf.fit(features_train, target_train)\n",
    "    predictions_valid = tree_clf.predict(features_valid)\n",
    "    result = accuracy_score(target_valid, predictions_valid)\n",
    "    if result > best_result:\n",
    "        best_result, best_model = result, tree_clf\n",
    "    \n",
    "print('Лучший Accuracy для модели дерева: ', best_result)\n",
    "print('Подходящий гиперапараметр глубины: ', best_model.max_depth)"
   ]
  },
  {
   "cell_type": "markdown",
   "metadata": {},
   "source": [
    "### Случайный Лес(RandomForestClassifier)"
   ]
  },
  {
   "cell_type": "code",
   "execution_count": 7,
   "metadata": {},
   "outputs": [
    {
     "name": "stdout",
     "output_type": "stream",
     "text": [
      "Лучший Accuracy для модели дерева:  0.7931570762052877\n",
      "Подходящий гиперапараметр глубины:  51\n"
     ]
    }
   ],
   "source": [
    "best_model = None\n",
    "best_result = 0\n",
    "\n",
    "# Для модели леса переберём число деревьев\n",
    "for est in range(1, 100):\n",
    "    randf_clf = RandomForestClassifier(random_state=12345, n_estimators=est)\n",
    "    randf_clf.fit(features_train, target_train)\n",
    "    predictions_valid = randf_clf.predict(features_valid)\n",
    "    result = accuracy_score(target_valid, predictions_valid)\n",
    "    if result > best_result:\n",
    "        best_result, best_model = result, randf_clf\n",
    "        \n",
    "print('Лучший Accuracy для модели дерева: ', best_result)\n",
    "print('Подходящий гиперапараметр глубины: ', best_model.n_estimators)"
   ]
  },
  {
   "cell_type": "markdown",
   "metadata": {},
   "source": [
    "Попробуем провести кросс-валидацию для модели случайного леса"
   ]
  },
  {
   "cell_type": "code",
   "execution_count": 9,
   "metadata": {},
   "outputs": [
    {
     "name": "stdout",
     "output_type": "stream",
     "text": [
      "Best CV score: 0.804, best CV n_est: 62\n"
     ]
    }
   ],
   "source": [
    "param_grid = {\n",
    "        'n_estimators': range(1, 100)\n",
    "        \n",
    "}\n",
    "\n",
    "rnd_forest = RandomForestClassifier(random_state=12345)\n",
    "grid_search = GridSearchCV(rnd_forest, param_grid, cv=5, scoring='accuracy')\n",
    "grid_search.fit(features, target)\n",
    "\n",
    "print(\"Best CV score: {:.3f}, best CV n_est: {}\".format(\n",
    "    grid_search.best_score_, grid_search.best_estimator_.n_estimators)\n",
    ") "
   ]
  },
  {
   "cell_type": "markdown",
   "metadata": {},
   "source": [
    "### Логистическая регрессия. (LogisticRegression)"
   ]
  },
  {
   "cell_type": "code",
   "execution_count": 9,
   "metadata": {},
   "outputs": [
    {
     "name": "stdout",
     "output_type": "stream",
     "text": [
      "Лучший Accuracy для модели лог.регрессии:  0.7573872472783826\n"
     ]
    },
    {
     "name": "stderr",
     "output_type": "stream",
     "text": [
      "/opt/conda/lib/python3.7/site-packages/sklearn/linear_model/logistic.py:432: FutureWarning: Default solver will be changed to 'lbfgs' in 0.22. Specify a solver to silence this warning.\n",
      "  FutureWarning)\n"
     ]
    }
   ],
   "source": [
    "log_regression = LogisticRegression(random_state=12345)\n",
    "\n",
    "log_regression.fit(features_train, target_train)\n",
    "predictions_valid = log_regression.predict(features_valid)\n",
    "result = accuracy_score(target_valid, predictions_valid)\n",
    "\n",
    "\n",
    "print('Лучший Accuracy для модели лог.регрессии: ', result)\n"
   ]
  },
  {
   "cell_type": "markdown",
   "metadata": {},
   "source": [
    "## Проверьте модель на тестовой выборке"
   ]
  },
  {
   "cell_type": "code",
   "execution_count": 10,
   "metadata": {},
   "outputs": [
    {
     "name": "stdout",
     "output_type": "stream",
     "text": [
      "Accuracy дерева решений (тестовая выборка):  0.7791601866251944\n"
     ]
    }
   ],
   "source": [
    "# Дерево решений \n",
    "\n",
    "tree_clf = DecisionTreeClassifier(random_state=12345, max_depth=3)\\\n",
    "    .fit(features_train, target_train)\n",
    "\n",
    "predictions_test = tree_clf.predict(features_test)\n",
    "tree_clf_results = accuracy_score(predictions_test, target_test)\n",
    "\n",
    "print('Accuracy дерева решений (тестовая выборка): ', tree_clf_results)\n"
   ]
  },
  {
   "cell_type": "code",
   "execution_count": 11,
   "metadata": {},
   "outputs": [
    {
     "name": "stdout",
     "output_type": "stream",
     "text": [
      "Accuracy для леса (тестовая выборка):  0.7853810264385692\n"
     ]
    }
   ],
   "source": [
    "# Случайный лес\n",
    "\n",
    "randf_clf = RandomForestClassifier(random_state=12345, n_estimators=51)\\\n",
    "    .fit(features_train, target_train)\n",
    "\n",
    "predictions_test = randf_clf.predict(features_test)\n",
    "randf_clf_results = accuracy_score(predictions_test, target_test)\n",
    "\n",
    "print('Accuracy для леса (тестовая выборка): ', randf_clf_results)"
   ]
  },
  {
   "cell_type": "code",
   "execution_count": 12,
   "metadata": {},
   "outputs": [
    {
     "name": "stdout",
     "output_type": "stream",
     "text": [
      "Accuracy для лог.регресии (тестовая выборка):  0.7402799377916018\n"
     ]
    },
    {
     "name": "stderr",
     "output_type": "stream",
     "text": [
      "/opt/conda/lib/python3.7/site-packages/sklearn/linear_model/logistic.py:432: FutureWarning: Default solver will be changed to 'lbfgs' in 0.22. Specify a solver to silence this warning.\n",
      "  FutureWarning)\n"
     ]
    }
   ],
   "source": [
    "log_regression = LogisticRegression(random_state=12345)\\\n",
    "    .fit(features_train, target_train)\n",
    "\n",
    "predictions_test = log_regression.predict(features_test)\n",
    "log_regresion_results = accuracy_score(predictions_test, target_test)\n",
    "\n",
    "\n",
    "print('Accuracy для лог.регресии (тестовая выборка): ', log_regresion_results)"
   ]
  },
  {
   "cell_type": "markdown",
   "metadata": {},
   "source": [
    "Получается, что линейная модель на тесте немного не дотянула до установленного по заданию порога, но это не значит, что эта модель не нужна. В реальных проектах начинают с простых моделей, потом переходят к сложным. У простых есть преимущество - скорость. У сложных, если все правильно настроено, качество"
   ]
  },
  {
   "cell_type": "markdown",
   "metadata": {},
   "source": [
    "## (бонус) Проверьте модели на адекватность"
   ]
  },
  {
   "cell_type": "markdown",
   "metadata": {},
   "source": [
    "Пока что не совсем понимаю, как это осуществляется"
   ]
  },
  {
   "cell_type": "markdown",
   "metadata": {},
   "source": [
    "# Вывод\n",
    "\n",
    "В данной работе мы рассмотрели 3 модели классификации в действии, а именно подобрали адекватные гиперпараметры и оценили метрику качетсва, что дало приемлемые результаты для каждой модели на тестовой выборке.\n",
    "Логистическая регрессия по качеству не дала 75%, но подобралась близко. На кросс-валидации хорошо показал себя случайный лес, дав качество в 0,8 и с гиперпараметром (кол-во деревьев 62). Сочтём дерево решений и случайный лес ,как наилучшие модели для данной задачи- классификации по тарифам. Если хотим добиться лучшего качетсва- смотрим в сторону сл.леса, а если хотим чуть быстрее - то в сторону дерева. "
   ]
  },
  {
   "cell_type": "markdown",
   "metadata": {},
   "source": [
    "Комментарий ревьювера\\\n",
    "Проверка на адекватность позволяет понять, хороша ли выбранная нами лучшая модель, или даже нет смысла с ней работать.\\\n",
    "Для проверки на адекватность принято использовать константную модель, которая всегда предсказывает одно и то же\\\n",
    "Например, можно использовать <a href=\"https://scikit-learn.org/stable/modules/generated/sklearn.dummy.DummyClassifier.html\">DummyClassifier</a>\\\n",
    "     Используется так же, как и другие модели sklearn: fit на обучающей выборке, predict на тестовой"
   ]
  },
  {
   "cell_type": "markdown",
   "metadata": {},
   "source": [
    "\n",
    "Сейчас часто используются не только базовые модели. Серьезный прорыв в показателях метрики может произвести модель бустинга, идея которого в том, чтобы из нескольких слабых алгоритмов сделать один сильный. Советую посмотреть про <a href=\"https://catboost.ai/docs/concepts/python-quickstart.html\">CatBoost.\\\n",
    "И, конечно, советую в следующих спринтах попробовать GridSearchCV, чтобы подбирать параметры\n",
    "\n"
   ]
  }
 ],
 "metadata": {
  "kernelspec": {
   "display_name": "Python 3",
   "language": "python",
   "name": "python3"
  },
  "language_info": {
   "codemirror_mode": {
    "name": "ipython",
    "version": 3
   },
   "file_extension": ".py",
   "mimetype": "text/x-python",
   "name": "python",
   "nbconvert_exporter": "python",
   "pygments_lexer": "ipython3",
   "version": "3.7.8"
  },
  "toc": {
   "base_numbering": 1,
   "nav_menu": {},
   "number_sections": true,
   "sideBar": true,
   "skip_h1_title": true,
   "title_cell": "Table of Contents",
   "title_sidebar": "Contents",
   "toc_cell": false,
   "toc_position": {},
   "toc_section_display": true,
   "toc_window_display": false
  }
 },
 "nbformat": 4,
 "nbformat_minor": 2
}
